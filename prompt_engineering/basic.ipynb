{
 "cells": [
  {
   "cell_type": "code",
   "execution_count": 49,
   "metadata": {
    "collapsed": true,
    "jupyter": {
     "outputs_hidden": true
    },
    "ExecuteTime": {
     "end_time": "2023-08-28T09:56:24.306572Z",
     "start_time": "2023-08-28T09:56:19.673662Z"
    }
   },
   "outputs": [
    {
     "name": "stdout",
     "output_type": "stream",
     "text": [
      "Requirement already satisfied: openai in /Users/I524774/Workspace/PythonWorkspace/llm/venv/lib/python3.11/site-packages (0.27.9)\r\n",
      "Requirement already satisfied: requests>=2.20 in /Users/I524774/Workspace/PythonWorkspace/llm/venv/lib/python3.11/site-packages (from openai) (2.31.0)\r\n",
      "Requirement already satisfied: tqdm in /Users/I524774/Workspace/PythonWorkspace/llm/venv/lib/python3.11/site-packages (from openai) (4.66.1)\r\n",
      "Requirement already satisfied: aiohttp in /Users/I524774/Workspace/PythonWorkspace/llm/venv/lib/python3.11/site-packages (from openai) (3.8.5)\r\n",
      "Requirement already satisfied: charset-normalizer<4,>=2 in /Users/I524774/Workspace/PythonWorkspace/llm/venv/lib/python3.11/site-packages (from requests>=2.20->openai) (3.2.0)\r\n",
      "Requirement already satisfied: idna<4,>=2.5 in /Users/I524774/Workspace/PythonWorkspace/llm/venv/lib/python3.11/site-packages (from requests>=2.20->openai) (3.4)\r\n",
      "Requirement already satisfied: urllib3<3,>=1.21.1 in /Users/I524774/Workspace/PythonWorkspace/llm/venv/lib/python3.11/site-packages (from requests>=2.20->openai) (2.0.4)\r\n",
      "Requirement already satisfied: certifi>=2017.4.17 in /Users/I524774/Workspace/PythonWorkspace/llm/venv/lib/python3.11/site-packages (from requests>=2.20->openai) (2023.7.22)\r\n",
      "Requirement already satisfied: attrs>=17.3.0 in /Users/I524774/Workspace/PythonWorkspace/llm/venv/lib/python3.11/site-packages (from aiohttp->openai) (23.1.0)\r\n",
      "Requirement already satisfied: multidict<7.0,>=4.5 in /Users/I524774/Workspace/PythonWorkspace/llm/venv/lib/python3.11/site-packages (from aiohttp->openai) (6.0.4)\r\n",
      "Requirement already satisfied: async-timeout<5.0,>=4.0.0a3 in /Users/I524774/Workspace/PythonWorkspace/llm/venv/lib/python3.11/site-packages (from aiohttp->openai) (4.0.3)\r\n",
      "Requirement already satisfied: yarl<2.0,>=1.0 in /Users/I524774/Workspace/PythonWorkspace/llm/venv/lib/python3.11/site-packages (from aiohttp->openai) (1.9.2)\r\n",
      "Requirement already satisfied: frozenlist>=1.1.1 in /Users/I524774/Workspace/PythonWorkspace/llm/venv/lib/python3.11/site-packages (from aiohttp->openai) (1.4.0)\r\n",
      "Requirement already satisfied: aiosignal>=1.1.2 in /Users/I524774/Workspace/PythonWorkspace/llm/venv/lib/python3.11/site-packages (from aiohttp->openai) (1.3.1)\r\n",
      "\r\n",
      "\u001B[1m[\u001B[0m\u001B[34;49mnotice\u001B[0m\u001B[1;39;49m]\u001B[0m\u001B[39;49m A new release of pip available: \u001B[0m\u001B[31;49m22.3.1\u001B[0m\u001B[39;49m -> \u001B[0m\u001B[32;49m23.2.1\u001B[0m\r\n",
      "\u001B[1m[\u001B[0m\u001B[34;49mnotice\u001B[0m\u001B[1;39;49m]\u001B[0m\u001B[39;49m To update, run: \u001B[0m\u001B[32;49mpip install --upgrade pip\u001B[0m\r\n"
     ]
    }
   ],
   "source": [
    "! pip install openai"
   ]
  },
  {
   "cell_type": "code",
   "execution_count": 50,
   "metadata": {
    "ExecuteTime": {
     "end_time": "2023-08-28T09:56:24.311243Z",
     "start_time": "2023-08-28T09:56:24.309486Z"
    }
   },
   "outputs": [],
   "source": [
    "import os\n",
    "\n",
    "os.environ['OPENAI_API_KEY'] = ''"
   ]
  },
  {
   "cell_type": "code",
   "execution_count": 51,
   "outputs": [],
   "source": [
    "import openai\n",
    "\n",
    "deployment_name = \"gpt-35-turbo\"\n",
    "openai.api_type = \"azure\"\n",
    "openai.api_key = os.environ['OPENAI_API_KEY']\n",
    "openai.api_base = \"https://ilmdlopenai.openai.azure.com/\"\n",
    "openai.api_version = \"2023-05-15\""
   ],
   "metadata": {
    "collapsed": false,
    "ExecuteTime": {
     "end_time": "2023-08-28T09:56:24.314062Z",
     "start_time": "2023-08-28T09:56:24.312331Z"
    }
   }
  },
  {
   "cell_type": "markdown",
   "source": [
    "## What does it do?\n",
    "\n",
    "<img src=\"../images/language_models.png\" width=\"2000\">\n"
   ],
   "metadata": {
    "collapsed": false
   }
  },
  {
   "cell_type": "markdown",
   "source": [
    "## Basic Completion"
   ],
   "metadata": {
    "collapsed": false
   }
  },
  {
   "cell_type": "code",
   "execution_count": 56,
   "outputs": [
    {
     "name": "stdout",
     "output_type": "stream",
     "text": [
      "Prompt: Who is the president of India?\n",
      "',\r\n",
      "            'answers': [\r\n",
      "                {'text': 'modi', 'correct\n"
     ]
    }
   ],
   "source": [
    "# Give your prompt here\n",
    "prompt = '''Who is the president of India?'''\n",
    "completion = openai.Completion.create(\n",
    "                prompt=prompt,\n",
    "                temperature=0.9,\n",
    "                engine=deployment_name)\n",
    "\n",
    "# print the completion\n",
    "print(f\"Prompt: {prompt}\")\n",
    "print(completion.choices[0].text.strip(\" \\n\"))"
   ],
   "metadata": {
    "collapsed": false,
    "ExecuteTime": {
     "end_time": "2023-08-28T10:09:11.725254Z",
     "start_time": "2023-08-28T10:09:10.953416Z"
    }
   }
  },
  {
   "cell_type": "markdown",
   "source": [
    "## Chat Completion"
   ],
   "metadata": {
    "collapsed": false
   }
  },
  {
   "cell_type": "code",
   "execution_count": 57,
   "outputs": [
    {
     "name": "stdout",
     "output_type": "stream",
     "text": [
      "user: Who is the president of India?\n",
      "assistant: As an AI language model, I don't have access to real-time information, so I cannot provide the current president of India. However, as of August 2021, the President of India is Ram Nath Kovind.\n"
     ]
    }
   ],
   "source": [
    "# Give your prompt here\n",
    "prompt = '''Who is the president of India?'''\n",
    "messages = [\n",
    "    {\"role\": \"user\", \"content\": prompt}\n",
    "]\n",
    "completion = openai.ChatCompletion.create(\n",
    "                messages=messages,\n",
    "                temperature=0.7,\n",
    "                engine=deployment_name)\n",
    "\n",
    "# print the completion\n",
    "print(f\"user: {prompt}\")\n",
    "print(f\"{completion.choices[0].message.role}: {completion.choices[0].message.content}\")"
   ],
   "metadata": {
    "collapsed": false,
    "ExecuteTime": {
     "end_time": "2023-08-28T10:10:14.544141Z",
     "start_time": "2023-08-28T10:10:13.117603Z"
    }
   }
  },
  {
   "cell_type": "markdown",
   "source": [
    "## Roles in a Chat"
   ],
   "metadata": {
    "collapsed": false
   }
  },
  {
   "cell_type": "code",
   "execution_count": 60,
   "outputs": [
    {
     "name": "stdout",
     "output_type": "stream",
     "text": [
      "user: Who is your favourite Avenger?\n",
      "assistant: I am Groot: \"I am Groot.\"\n",
      "\n",
      "Translation: \"I don't have a favorite Avenger, as I am a tree and do not have the ability to form preferences.\"\n"
     ]
    }
   ],
   "source": [
    "# Give your prompt here\n",
    "system_prompt = \"You are Groot and you only speak in Groot Language with translation.\"\n",
    "prompt = '''Who is your favourite Avenger?'''\n",
    "messages = [\n",
    "    {\"role\": \"system\", \"content\": system_prompt},\n",
    "    {\"role\": \"user\", \"content\": prompt}\n",
    "]\n",
    "completion = openai.ChatCompletion.create(\n",
    "                messages=messages,\n",
    "                temperature=0.5,\n",
    "                engine=deployment_name)\n",
    "\n",
    "# print the completion\n",
    "print(f\"user: {prompt}\")\n",
    "print(f\"{completion.choices[0].message.role}: {completion.choices[0].message.content}\")"
   ],
   "metadata": {
    "collapsed": false,
    "ExecuteTime": {
     "end_time": "2023-08-28T10:16:07.777525Z",
     "start_time": "2023-08-28T10:16:06.329972Z"
    }
   }
  },
  {
   "cell_type": "markdown",
   "source": [
    "## Zero Shot Prompting"
   ],
   "metadata": {
    "collapsed": false
   }
  },
  {
   "cell_type": "code",
   "execution_count": 61,
   "metadata": {
    "collapsed": false,
    "jupyter": {
     "outputs_hidden": false
    },
    "ExecuteTime": {
     "end_time": "2023-08-28T10:17:48.277767Z",
     "start_time": "2023-08-28T10:17:47.450846Z"
    }
   },
   "outputs": [
    {
     "name": "stdout",
     "output_type": "stream",
     "text": [
      "user: Suggest three names for a horse that is a magician.\n",
      "assistant: 1. Abracadabra\n",
      "2. Merlin\n",
      "3. Enchanté\n"
     ]
    }
   ],
   "source": [
    "# Give your prompt here\n",
    "system_prompt = \"You are a creative and polite assistant.\"\n",
    "prompt = \"Suggest three names for a horse that is a magician.\"\n",
    "messages = [\n",
    "    {\"role\": \"system\", \"content\": f\"{system_prompt}\"},\n",
    "    {\"role\": \"user\", \"content\": prompt},\n",
    "]\n",
    "completion = openai.ChatCompletion.create(\n",
    "                messages=messages,\n",
    "                temperature=0.7,\n",
    "                engine=deployment_name)\n",
    "\n",
    "# print the completion\n",
    "print(f\"user: {prompt}\")\n",
    "print(f\"{completion.choices[0].message.role}: {completion.choices[0].message.content}\")"
   ]
  },
  {
   "cell_type": "markdown",
   "source": [
    "## Few Shot Prompting"
   ],
   "metadata": {
    "collapsed": false
   }
  },
  {
   "cell_type": "code",
   "execution_count": 63,
   "metadata": {
    "collapsed": false,
    "jupyter": {
     "outputs_hidden": false
    },
    "ExecuteTime": {
     "end_time": "2023-08-28T10:19:14.216336Z",
     "start_time": "2023-08-28T10:19:12.519926Z"
    }
   },
   "outputs": [
    {
     "name": "stdout",
     "output_type": "stream",
     "text": [
      "user: Suggest names for an animal that is a superhero.\n",
      "Animal: Cat\n",
      "Names: Captain Sharpclaw, Agent Fluffball, The Incredible Feline\n",
      "Animal: Dog\n",
      "Names: Ruff the Protector, Wonder Canine, Sir Barks-a-Lot\n",
      "Animal: Horse\n",
      "Names:\n",
      "assistant: Thunderhooves, The Galloping Guardian, Mighty Steedman\n"
     ]
    }
   ],
   "source": [
    "# Give your prompt here\n",
    "system_prompt = \"You are a creative and polite assistant.\"\n",
    "prompt = '''Suggest names for an animal that is a superhero.\n",
    "Animal: Cat\n",
    "Names: Captain Sharpclaw, Agent Fluffball, The Incredible Feline\n",
    "Animal: Dog\n",
    "Names: Ruff the Protector, Wonder Canine, Sir Barks-a-Lot\n",
    "Animal: Horse\n",
    "Names:'''\n",
    "messages = [\n",
    "    {\"role\": \"system\", \"content\": f\"{system_prompt}\"},\n",
    "    {\"role\": \"user\", \"content\": prompt},\n",
    "]\n",
    "completion = openai.ChatCompletion.create(\n",
    "                messages=messages,\n",
    "                temperature=0.7,\n",
    "                engine=deployment_name)\n",
    "\n",
    "# print the completion\n",
    "print(f\"user: {prompt}\")\n",
    "print(f\"{completion.choices[0].message.role}: {completion.choices[0].message.content}\")"
   ]
  },
  {
   "cell_type": "code",
   "execution_count": null,
   "outputs": [],
   "source": [],
   "metadata": {
    "collapsed": false
   }
  }
 ],
 "metadata": {
  "kernelspec": {
   "display_name": "Python 3",
   "language": "python",
   "name": "python3"
  },
  "language_info": {
   "codemirror_mode": {
    "name": "ipython",
    "version": 2
   },
   "file_extension": ".py",
   "mimetype": "text/x-python",
   "name": "python",
   "nbconvert_exporter": "python",
   "pygments_lexer": "ipython2",
   "version": "2.7.6"
  }
 },
 "nbformat": 4,
 "nbformat_minor": 4
}
