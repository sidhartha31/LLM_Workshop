{
 "cells": [
  {
   "cell_type": "code",
   "execution_count": null,
   "metadata": {
    "collapsed": true
   },
   "outputs": [],
   "source": [
    "! pip install openai"
   ]
  },
  {
   "cell_type": "code",
   "execution_count": null,
   "outputs": [],
   "source": [
    "import os\n",
    "\n",
    "os.environ['OPENAI_API_KEY'] = ''"
   ],
   "metadata": {
    "collapsed": false
   }
  },
  {
   "cell_type": "code",
   "execution_count": null,
   "outputs": [],
   "source": [
    "import openai\n",
    "\n",
    "deployment_name = \"gpt-35-turbo\"\n",
    "openai.api_type = \"azure\"\n",
    "openai.api_key = os.environ['OPENAI_API_KEY']\n",
    "openai.api_base = \"https://ilmdlopenai.openai.azure.com/\"\n",
    "openai.api_version = \"2023-05-15\""
   ],
   "metadata": {
    "collapsed": false
   }
  },
  {
   "cell_type": "markdown",
   "source": [
    "## Basic Prompt"
   ],
   "metadata": {
    "collapsed": false
   }
  },
  {
   "cell_type": "code",
   "execution_count": 16,
   "outputs": [
    {
     "name": "stdout",
     "output_type": "stream",
     "text": [
      "user: Take the last letter of  words in \"Christopher Nolan\" and concatenate them.\n",
      "assistant: nnaoan\n"
     ]
    }
   ],
   "source": [
    "# Give your prompt here\n",
    "prompt = '''Take the last letter of  words in \"Christopher Nolan\" and concatenate them.'''\n",
    "messages = [\n",
    "    {\"role\": \"user\", \"content\": prompt}\n",
    "]\n",
    "completion = openai.ChatCompletion.create(\n",
    "                messages=messages,\n",
    "                temperature=0.7,\n",
    "                engine=deployment_name)\n",
    "\n",
    "# print the completion\n",
    "print(f\"user: {prompt}\")\n",
    "print(f\"{completion.choices[0].message.role}: {completion.choices[0].message.content}\")"
   ],
   "metadata": {
    "collapsed": false,
    "ExecuteTime": {
     "end_time": "2023-08-28T10:20:22.563173Z",
     "start_time": "2023-08-28T10:20:21.070287Z"
    }
   }
  },
  {
   "cell_type": "markdown",
   "source": [
    "## Chain of Thought (CoT)\n",
    "## Zero Shot CoT: Explain Step by Step"
   ],
   "metadata": {
    "collapsed": false
   }
  },
  {
   "cell_type": "code",
   "execution_count": 17,
   "outputs": [
    {
     "name": "stdout",
     "output_type": "stream",
     "text": [
      "user: Take the last letter of  words in \"Christopher Nolan\" and concatenate them. Explain step by step.\n",
      "assistant: The last letter of the first word \"Christopher\" is \"r\". \n",
      "\n",
      "The last letter of the second word \"Nolan\" is \"n\". \n",
      "\n",
      "To concatenate these letters means to join them together to form a new word. \n",
      "\n",
      "Therefore, the concatenated letters are \"rn\".\n"
     ]
    }
   ],
   "source": [
    "# Give your prompt here\n",
    "prompt = '''Take the last letter of  words in \"Christopher Nolan\" and concatenate them. Explain step by step.'''\n",
    "messages = [\n",
    "    {\"role\": \"user\", \"content\": prompt}\n",
    "]\n",
    "completion = openai.ChatCompletion.create(\n",
    "                messages=messages,\n",
    "                temperature=0.7,\n",
    "                engine=deployment_name)\n",
    "\n",
    "# print the completion\n",
    "print(f\"user: {prompt}\")\n",
    "print(f\"{completion.choices[0].message.role}: {completion.choices[0].message.content}\")"
   ],
   "metadata": {
    "collapsed": false,
    "ExecuteTime": {
     "end_time": "2023-08-28T10:21:41.524774Z",
     "start_time": "2023-08-28T10:21:39.156321Z"
    }
   }
  },
  {
   "cell_type": "markdown",
   "source": [
    "## Few Shots CoT"
   ],
   "metadata": {
    "collapsed": false
   }
  },
  {
   "cell_type": "code",
   "execution_count": 18,
   "outputs": [
    {
     "name": "stdout",
     "output_type": "stream",
     "text": [
      "user: Q. Take the last letter of words in \"Christopher Nolan\" and concatenate them.\n",
      "            A. The last letter of \"Christopher\" is \"r\" and of \"Nolan\" is \"n\". Concatenating them is \"rn\". So, the answer is \"rn\".\n",
      "            Q. Take the last letter of words in \"Robert J Oppenheimer\" and concatenate them.\n",
      "            A.\n",
      "assistant: The last letter of \"Robert\" is \"t\", of \"J\" is \"J\" (as it is just an initial and not a full word), and of \"Oppenheimer\" is \"r\". Concatenating them is \"tJr\". So, the answer is \"tJr\".\n"
     ]
    }
   ],
   "source": [
    "# Give your prompt here\n",
    "prompt = '''Q. Take the last letter of words in \"Christopher Nolan\" and concatenate them.\n",
    "            A. The last letter of \"Christopher\" is \"r\" and of \"Nolan\" is \"n\". Concatenating them is \"rn\". So, the answer is \"rn\".\n",
    "            Q. Take the last letter of words in \"Robert J Oppenheimer\" and concatenate them.\n",
    "            A.'''\n",
    "messages = [\n",
    "    {\"role\": \"user\", \"content\": prompt}\n",
    "]\n",
    "completion = openai.ChatCompletion.create(\n",
    "                messages=messages,\n",
    "                temperature=0.7,\n",
    "                engine=deployment_name)\n",
    "\n",
    "# print the completion\n",
    "print(f\"user: {prompt}\")\n",
    "print(f\"{completion.choices[0].message.role}: {completion.choices[0].message.content}\")"
   ],
   "metadata": {
    "collapsed": false,
    "ExecuteTime": {
     "end_time": "2023-08-28T10:22:31.659206Z",
     "start_time": "2023-08-28T10:22:29.205507Z"
    }
   }
  },
  {
   "cell_type": "markdown",
   "source": [
    "## PAL"
   ],
   "metadata": {
    "collapsed": false
   }
  },
  {
   "cell_type": "code",
   "execution_count": null,
   "outputs": [],
   "source": [],
   "metadata": {
    "collapsed": false
   }
  }
 ],
 "metadata": {
  "kernelspec": {
   "display_name": "Python 3",
   "language": "python",
   "name": "python3"
  },
  "language_info": {
   "codemirror_mode": {
    "name": "ipython",
    "version": 2
   },
   "file_extension": ".py",
   "mimetype": "text/x-python",
   "name": "python",
   "nbconvert_exporter": "python",
   "pygments_lexer": "ipython2",
   "version": "2.7.6"
  }
 },
 "nbformat": 4,
 "nbformat_minor": 0
}
